{
  "nbformat": 4,
  "nbformat_minor": 0,
  "metadata": {
    "colab": {
      "name": "Preprocess_WMT_TFRecords.ipynb",
      "provenance": []
    },
    "kernelspec": {
      "name": "python3",
      "display_name": "Python 3"
    },
    "accelerator": "TPU"
  },
  "cells": [
    {
      "cell_type": "code",
      "metadata": {
        "id": "hrR0g5OGdah_",
        "colab": {
          "base_uri": "https://localhost:8080/"
        },
        "outputId": "a9f24b3f-efc2-4104-f23c-57615430232a"
      },
      "source": [
        "!git clone https://github.com/tensorflow/models.git"
      ],
      "execution_count": null,
      "outputs": [
        {
          "output_type": "stream",
          "text": [
            "Cloning into 'models'...\n",
            "remote: Enumerating objects: 57387, done.\u001b[K\n",
            "remote: Counting objects: 100% (1450/1450), done.\u001b[K\n",
            "remote: Compressing objects: 100% (624/624), done.\u001b[K\n",
            "remote: Total 57387 (delta 976), reused 1251 (delta 810), pack-reused 55937\u001b[K\n",
            "Receiving objects: 100% (57387/57387), 572.96 MiB | 32.61 MiB/s, done.\n",
            "Resolving deltas: 100% (39639/39639), done.\n"
          ],
          "name": "stdout"
        }
      ]
    },
    {
      "cell_type": "code",
      "metadata": {
        "id": "oE10whCAd1sm"
      },
      "source": [
        "!rm /content/models/official/nlp/transformer/utils/tokenizer.py"
      ],
      "execution_count": null,
      "outputs": []
    },
    {
      "cell_type": "code",
      "metadata": {
        "id": "ifcYuNMmeOYX"
      },
      "source": [
        "!mv /content/tokenizer.py /content/models/official/nlp/transformer/utils"
      ],
      "execution_count": null,
      "outputs": []
    },
    {
      "cell_type": "code",
      "metadata": {
        "id": "ehpyV0H6d7s0"
      },
      "source": [
        "!rm /content/models/official/nlp/transformer/data_download.py"
      ],
      "execution_count": null,
      "outputs": []
    },
    {
      "cell_type": "code",
      "metadata": {
        "id": "uZMgotWBd_0F"
      },
      "source": [
        "!mv /content/data_download.py /content/models/official/nlp/transformer"
      ],
      "execution_count": null,
      "outputs": []
    },
    {
      "cell_type": "code",
      "metadata": {
        "id": "GDcnO2IvP-iG",
        "colab": {
          "base_uri": "https://localhost:8080/"
        },
        "outputId": "56debade-6d2f-4d27-b2fe-36c1cfa96720"
      },
      "source": [
        "from google.colab import drive\n",
        "drive.mount('/content/drive')"
      ],
      "execution_count": null,
      "outputs": [
        {
          "output_type": "stream",
          "text": [
            "Mounted at /content/drive\n"
          ],
          "name": "stdout"
        }
      ]
    },
    {
      "cell_type": "code",
      "metadata": {
        "id": "WrluZa8tnIUD"
      },
      "source": [
        "import os\n",
        "os.environ['PYTHONPATH'] += \":/content/models\"\n",
        "\n",
        "import sys\n",
        "sys.path.append(\"/content/models\")"
      ],
      "execution_count": null,
      "outputs": []
    },
    {
      "cell_type": "code",
      "metadata": {
        "id": "w9qDKGUnQ-bJ"
      },
      "source": [
        "!python3 /content/models/official/nlp/transformer/data_download.py --data_dir=/content/drive/My\\ Drive/Machine_Translation_Dataset/WMT_14_TfRecords_37K --raw_dir=/content/drive/My\\ Drive/Machine_Translation_Dataset/WMT_14/extra/zipped_files --search"
      ],
      "execution_count": null,
      "outputs": []
    }
  ]
}